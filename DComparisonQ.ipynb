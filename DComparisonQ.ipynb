{
 "cells": [
  {
   "cell_type": "code",
   "execution_count": 16,
   "metadata": {},
   "outputs": [],
   "source": [
    "K = NumberField(x-1,'z') #need to construct this number field isomorphic to QQ, as working directly over QQ gives errors\n",
    "OK = K.ideal(1) #this is isomorphic to ZZ"
   ]
  },
  {
   "cell_type": "code",
   "execution_count": 17,
   "metadata": {},
   "outputs": [],
   "source": [
    "def DenominatorSize(q):\n",
    "    '''\n",
    "    INPUT: q rational number -> a/b, afrak fractional ideal in QQ\n",
    "    OUTPUT: denominator size N(b)/N(cfrak), where cfrak = (a) + b*afrak^(-1)\n",
    "    '''\n",
    "    if q not in QQ:\n",
    "        raise ValueError(\"first input should be a rational number\")\n",
    "    a = q.numerator()\n",
    "    b = q.denominator()\n",
    "    cfrak = a*OK + b*OK\n",
    "    D = b*OK.norm()/cfrak.norm()\n",
    "    return D"
   ]
  },
  {
   "cell_type": "code",
   "execution_count": null,
   "metadata": {},
   "outputs": [],
   "source": [
    "def FareyDifferenceDenominator(q1, q2):\n",
    "    '''\n",
    "    INPUT: q1, q2 rational numbers\n",
    "    OUTPUT: Farey sum (D(q1)*q1-D(q2)*q2)/(D(q1)^2-D(q2)^2) rational number\n",
    "    '''\n",
    "    if q1 not in QQ or q2 not in QQ:\n",
    "        raise ValueError(\"first two inputs should be two rational numbers\")\n",
    "    D1 = DenominatorSize(q1)\n",
    "    D2 = DenominatorSize(q2)\n",
    "    #difference = (D1*q1-D2*q2)/(D1^2-D2^2)\n",
    "    den = D1^2 - D2^2\n",
    "    return den"
   ]
  },
  {
   "cell_type": "code",
   "execution_count": 30,
   "metadata": {},
   "outputs": [],
   "source": [
    "def RadiusEquidistantSphereInverse(q1, q2):\n",
    "    '''\n",
    "    INPUT: q1, q2 rational numbers\n",
    "    OUTPUT: [c, r] with c centre and r radius of the sphere of points equidistant from q1 and q2\n",
    "    '''\n",
    "    if q1 not in QQ or q2 not in QQ:\n",
    "        raise ValueError(\"first two inputs should be two rational numbers\")\n",
    "    n1 = q1.numerator() #alpha\n",
    "    n2 = q2.numerator() #gamma\n",
    "    d1 = q1.denominator() #beta\n",
    "    d2 = q2.denominator() #delta\n",
    "    r = abs((d1^2-d2^2)/(n1*d2-n2*d1)) #(alpha*delta - beta*gamma)/|beta^2 - delta^2|\n",
    "    return r"
   ]
  },
  {
   "cell_type": "code",
   "execution_count": 20,
   "metadata": {},
   "outputs": [],
   "source": [
    "def RationalNumbersBoundedDenominator(L):\n",
    "    '''\n",
    "    INPUT: L non-negative integer\n",
    "    OUTPUT: dictionary of rational numbers of denominator <= L keyed by denominator\n",
    "    '''\n",
    "    if L not in ZZ or L < 0:\n",
    "        raise ValueError(\"input should be a non-negative integer\")\n",
    "    dictrationals = {}\n",
    "    for i in range(L):\n",
    "        dictrationals[i+1] = []\n",
    "        if i==0:\n",
    "            dictrationals[1].append(0)\n",
    "        for j in range(i+1):\n",
    "            if gcd(i+1,j+1)==1:\n",
    "                dictrationals[i+1].append((j+1)/(i+1))\n",
    "    return dictrationals"
   ]
  },
  {
   "cell_type": "code",
   "execution_count": 52,
   "metadata": {},
   "outputs": [],
   "source": [
    "def ComparisonDenominatorRadius(L):\n",
    "    '''\n",
    "    INPUT: L non-negative integer\n",
    "    OUTPUT: prints out for each rational number in [0,1] of denominator <= L (and >1) how many rationals of smaller denominator have D=D*\n",
    "    '''\n",
    "    if L not in ZZ or L <= 1:\n",
    "        raise ValueError(\"input should be an integer > 1\")\n",
    "    rationals = RationalNumbersBoundedDenominator(L)\n",
    "    for i in range(L-1):\n",
    "        for sigma in rationals[i+2]:\n",
    "            neighbourcount = 0\n",
    "            for j in range(i+1):\n",
    "                for tau in rationals[j+1]:\n",
    "                    D = FareyDifferenceDenominator(sigma, tau)\n",
    "                    Dx = RadiusEquidistantSphereInverse(sigma, tau)\n",
    "                    if D==Dx:\n",
    "                        neighbourcount+=1\n",
    "            if neighbourcount!=2:\n",
    "                print(sigma)\n",
    "    print('finished')"
   ]
  },
  {
   "cell_type": "code",
   "execution_count": 54,
   "metadata": {},
   "outputs": [
    {
     "name": "stdout",
     "output_type": "stream",
     "text": [
      "finished\n"
     ]
    }
   ],
   "source": [
    "ComparisonDenominatorRadius(100)"
   ]
  }
 ],
 "metadata": {
  "kernelspec": {
   "display_name": "SageMath 9.5",
   "language": "sage",
   "name": "sagemath"
  },
  "language_info": {
   "codemirror_mode": {
    "name": "ipython",
    "version": 3
   },
   "file_extension": ".py",
   "mimetype": "text/x-python",
   "name": "python",
   "nbconvert_exporter": "python",
   "pygments_lexer": "ipython3",
   "version": "3.10.12"
  }
 },
 "nbformat": 4,
 "nbformat_minor": 2
}
