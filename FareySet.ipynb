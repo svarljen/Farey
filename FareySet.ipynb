{
 "cells": [
  {
   "cell_type": "code",
   "execution_count": 7,
   "metadata": {},
   "outputs": [],
   "source": [
    "def FareySum(q1, q2):\n",
    "    '''\n",
    "    INPUT: q1, q2 rational numbers -> n1/d1, n2/d2\n",
    "    OUTPUT: Farey sum (n1+n2)/(d1+d2) rational number\n",
    "    '''\n",
    "    if q1 not in QQ or q2 not in QQ:\n",
    "        raise ValueError(\"input should be two rational numbers\")\n",
    "    n1 = q1.numerator()\n",
    "    n2 = q2.numerator()\n",
    "    d1 = q1.denominator()\n",
    "    d2 = q2.denominator()\n",
    "    sum = (n1+n2)/(d1+d2)\n",
    "    return sum"
   ]
  },
  {
   "cell_type": "code",
   "execution_count": 8,
   "metadata": {},
   "outputs": [],
   "source": [
    "def FareySequence(L):\n",
    "    '''\n",
    "    INPUT: non-negative integer L\n",
    "    OUTPUT: Farey sequence of level L\n",
    "    '''\n",
    "    if L not in ZZ or L < 0:\n",
    "        raise ValueError(\"input should be a non-negative integer\")\n",
    "    sequence = [0,1] #list of rationals in the Farey sequence\n",
    "    for i in range(L): #we build the sequence iterating on the level\n",
    "        length = len(sequence) - 1\n",
    "        sequencesums = [FareySum(sequence[j], sequence[j+1]) for j in range(length)] #this is a list of the Farey sums of consecutive entries of the sequence\n",
    "        newsequence = []\n",
    "        for k in range(length): #this for loop creates a sequence alternating entries from the previous level with entries from 'sequencesums'\n",
    "            newsequence.append(sequence[k])\n",
    "            newsequence.append(sequencesums[k])\n",
    "        newsequence.append(1)\n",
    "        sequence = newsequence\n",
    "    return sequence"
   ]
  },
  {
   "cell_type": "code",
   "execution_count": 9,
   "metadata": {},
   "outputs": [],
   "source": [
    "def FareyVertices(L, seq = False):\n",
    "    '''\n",
    "    INPUT: non-negative integer L, a Boolean that is False by default\n",
    "    OUTPUT: dictionary of vertices in the Farey sequence of level L with a list of their two neighbours, if seq == True also the list of vertices, which is the Farey sequence of level L\n",
    "    '''\n",
    "    if L not in ZZ or L < 0:\n",
    "        raise ValueError(\"input should be a non-negative integer\")\n",
    "    sequence = [0, 1] #most of the code is the same as that of 'FareySequence'\n",
    "    vertices = {0: (), 1: ()} #dictionary: keys are rationals in the Farey sequence, for each key we have a tuple of the (at most two) neighbouring rationals\n",
    "    for i in range(L):\n",
    "        length = len(sequence) - 1\n",
    "        sequencesums = [FareySum(sequence[j], sequence[j+1]) for j in range(length)]\n",
    "        for j in range(length):\n",
    "            vertices[sequencesums[j]] = sequence[j], sequence[j+1] #each new Farey number found in 'sequencesums' is a new key in the dictionary 'vertices', and to it we associate its two neighbours found in 'sequence'\n",
    "        newsequence = []\n",
    "        for k in range(length):\n",
    "            newsequence.append(sequence[k])\n",
    "            newsequence.append(sequencesums[k])\n",
    "        newsequence.append(1)\n",
    "        sequence = newsequence\n",
    "    if seq == True:\n",
    "        return vertices, sequence\n",
    "    return vertices"
   ]
  },
  {
   "cell_type": "code",
   "execution_count": 10,
   "metadata": {},
   "outputs": [],
   "source": [
    "def FareyTree(L):\n",
    "    '''\n",
    "    INPUT: non-negative integer L\n",
    "    OUTPUT: graph of the Farey sequence of level L\n",
    "    '''\n",
    "    if L not in ZZ or L < 0:\n",
    "        raise ValueError(\"input should be a non-negative integer\")\n",
    "    coordinates = [(0,0), (1,0)] #this will be the list of all the points (q, (L-1-level of q)/(L-1)) for q rational number in Farey sequence\n",
    "    lines = line([(0,0),(0,1)], linestyle = '--') + line([(1,0),(1,1)], linestyle = '--') #this gives vertical dashed lines at 0 and 1, we will add lines between points to this\n",
    "    if L == 0:\n",
    "        return plot(lines)\n",
    "    if L == 1: #case treated separately to avoid division by 0 in general case\n",
    "        return plot(lines + point((1/2,1), marker = 'o'))\n",
    "    if L > 1:\n",
    "        vertices = FareyVertices(L)\n",
    "        rationals = [*vertices] #we take keys of the dictionary FareyVertices(L) as a list, so we get all the rational numbers in the Farey sequence of level L ordered according to the level they appeared at\n",
    "        for i in range(L):\n",
    "            coordinates.extend([(q,(L-1-i)/(L-1)) for q in rationals[1+2^i:1+2^(i+1)]]) #coordinates \n",
    "        for p in coordinates[-1:2:-1]: #we draw lines starting from the bottom\n",
    "            if vertices[p[0]][0].denominator() > vertices[p[0]][1].denominator(): #this if checks which neighbour is connected to the point we are considering: it's always that with bigger denominator\n",
    "                proot = vertices[p[0]][0]\n",
    "            else:\n",
    "                proot = vertices[p[0]][1]\n",
    "            lines = lines + line([p,(proot,p[1]+1/(L-1))])\n",
    "        return plot(lines)"
   ]
  }
 ],
 "metadata": {
  "kernelspec": {
   "display_name": "SageMath 9.5",
   "language": "sage",
   "name": "sagemath"
  },
  "language_info": {
   "codemirror_mode": {
    "name": "ipython",
    "version": 3
   },
   "file_extension": ".py",
   "mimetype": "text/x-python",
   "name": "python",
   "nbconvert_exporter": "python",
   "pygments_lexer": "ipython3",
   "version": "3.10.12"
  }
 },
 "nbformat": 4,
 "nbformat_minor": 2
}
