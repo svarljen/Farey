{
 "cells": [
  {
   "cell_type": "code",
   "execution_count": 1,
   "metadata": {},
   "outputs": [],
   "source": [
    "K = NumberField(x-1,'z') #need to construct this number field isomorphic to QQ, as working directly over QQ gives errors\n",
    "OK = K.ideal(1) #this is isomorphic to ZZ\n",
    "#Added bonus of this workaround is that we can use the following definitions for different fields"
   ]
  },
  {
   "cell_type": "code",
   "execution_count": 2,
   "metadata": {},
   "outputs": [],
   "source": [
    "def DenominatorSize(q, afrak):\n",
    "    '''\n",
    "    INPUT: q rational number -> a/b, afrak fractional ideal in QQ\n",
    "    OUTPUT: denominator size N(b)/N(cfrak), where cfrak = (a) + b*afrak^(-1)\n",
    "    '''\n",
    "    if q not in QQ:\n",
    "        raise ValueError(\"first input should be a rational number\")\n",
    "    a = q.numerator()\n",
    "    b = q.denominator()\n",
    "    cfrak = a*OK + b*afrak^(-1)\n",
    "    D = b*OK.norm()/cfrak.norm()\n",
    "    return D"
   ]
  },
  {
   "cell_type": "code",
   "execution_count": 3,
   "metadata": {},
   "outputs": [],
   "source": [
    "def newFareySum(q1, q2, afrak):\n",
    "    '''\n",
    "    INPUT: q1, q2 rational numbers, afrak fractional ideal in QQ\n",
    "    OUTPUT: Farey sum (D(q1)*q1+D(q2)*q2)/(D(q1)+D(q2)) rational number\n",
    "    '''\n",
    "    if q1 not in QQ or q2 not in QQ:\n",
    "        raise ValueError(\"first two inputs should be two rational numbers\")\n",
    "    D1 = DenominatorSize(q1,afrak)\n",
    "    D2 = DenominatorSize(q2,afrak)\n",
    "    sum = (D1*q1+D2*q2)/(D1+D2)\n",
    "    return sum"
   ]
  },
  {
   "cell_type": "code",
   "execution_count": 4,
   "metadata": {},
   "outputs": [],
   "source": [
    "def BoundarySphere(q1, q2):\n",
    "    '''\n",
    "    INPUT: q1, q2 rational numbers\n",
    "    OUTPUT: [c, r] with c centre and r radius of the sphere of points equidistant from q1 and q2\n",
    "    '''\n",
    "    if q1 not in QQ or q2 not in QQ:\n",
    "        raise ValueError(\"first two inputs should be two rational numbers\")\n",
    "    n1 = q1.numerator() #alpha\n",
    "    n2 = q2.numerator() #gamma\n",
    "    d1 = q1.denominator() #beta\n",
    "    d2 = q2.denominator() #delta\n",
    "    c = abs((n1*d1-n2*d2)/(d1^2-d2^2)) #|(alpha beta - gamma delta)/(beta^2 - delta^2)|\n",
    "    r = abs(1/(d1^2-d2^2)) #1/|beta^2 - delta^2|\n",
    "    return c, r"
   ]
  },
  {
   "cell_type": "code",
   "execution_count": 5,
   "metadata": {},
   "outputs": [],
   "source": [
    "def newFareyVertices(L, afrak, seq = False):\n",
    "    '''\n",
    "    INPUT: L non-negative integer, afrak fractional ideal of QQ, a Boolean that is False by default\n",
    "    OUTPUT: dictionary of vertices in the Farey sequence of level L with a list of their two neighbours, dictionary of the centres and radii of the boundary spheres of neighbouring Farey numbers, if seq == True also the list of vertices, which is the Farey sequence of level L\n",
    "    '''\n",
    "    if L not in ZZ or L < 0:\n",
    "        raise ValueError(\"input should be a non-negative integer\")\n",
    "    sequence = [0, 1] #list of rationals of the Farey sequence\n",
    "    vertices = {0: (), 1: ()} #dictionary: keys are rationals in the Farey sequence, for each key we have a tuple of the (at most two) neighbouring rationals\n",
    "    spheres = {0: (), 1: ()} #dictionary: keys are rationals in the Farey sequence, for each key we have a list [c,r] of the centre and radius of boundary sphere with the neighbouring rationals\n",
    "    for i in range(L): #we iterate on the level to build the sequence\n",
    "        length = len(sequence) - 1\n",
    "        sequencesums = [newFareySum(sequence[j], sequence[j+1], afrak) for j in range(length)] #this is a list of the Farey sums of consecutive entries of the sequence\n",
    "        for j in range(length):\n",
    "            vertices[sequencesums[j]] = sequence[j], sequence[j+1] #each new Farey number found in 'sequencesums' is a new key in the dictionary 'vertices', and to it we associate its two neighbours found in 'sequence'\n",
    "            c0, r0 = BoundarySphere(sequencesums[j],sequence[j])\n",
    "            c1, r1 = BoundarySphere(sequencesums[j],sequence[j+1])\n",
    "            x = abs((r0^2-r1^2+c1^2-c0^2)/(2*(c1-c0)))\n",
    "            spheres[sequencesums[j]] = (c0, r0), (c1, r1), x,  #each new Farey number found in 'sequencesums' is a new key in the dictionary 'spheres', and to it we associate the data of the boundary spheres with its two neighbours\n",
    "        newsequence = []\n",
    "        for k in range(length): #this for loop creates a sequence alternating entries from the previous level with entries from 'sequencesums'\n",
    "            newsequence.append(sequence[k])\n",
    "            newsequence.append(sequencesums[k])\n",
    "        newsequence.append(1)\n",
    "        sequence = newsequence\n",
    "    if seq == True:\n",
    "        return vertices, spheres, sequence\n",
    "    return vertices, spheres"
   ]
  },
  {
   "cell_type": "code",
   "execution_count": 9,
   "metadata": {},
   "outputs": [],
   "source": [
    "def newFareyTree(L, afrak):\n",
    "    '''\n",
    "    INPUT: L non-negative integer, afrak a fractional ideal in QQ\n",
    "    OUTPUT: graph of the Farey sequence of level L\n",
    "    '''\n",
    "    if L not in ZZ or L < 0:\n",
    "        raise ValueError(\"input should be a non-negative integer\")\n",
    "    coordinates = [(0,0), (1,0)] #this will be the list of all the points (q, (L-1-level of q)/(L-1)) for q rational number in Farey sequence\n",
    "    lines = line([(0,0),(0,1)], linestyle = '--') + line([(1,0),(1,1)], linestyle = '--') #this gives vertical dashed lines at 0 and 1, we will add lines between points to this\n",
    "    if L == 0:\n",
    "        return plot(lines)\n",
    "    if L == 1: #case treated separately to avoid division by 0 in general case\n",
    "        return plot(lines + point((1/2,1), marker = 'o'))\n",
    "    if L > 1:\n",
    "        vertices = newFareyVertices(L, afrak)[0]\n",
    "        rationals = [*vertices] #we take keys of the dictionary FareyVertices(L) as a list, so we get all the rational numbers in the Farey sequence of level L ordered according to the level they appeared at\n",
    "        for i in range(L):\n",
    "            coordinates.extend([(q,(L-1-i)/(L-1)) for q in rationals[1+2^i:1+2^(i+1)]]) #coordinates \n",
    "        for p in coordinates[-1:2:-1]: #we draw lines starting from the bottom\n",
    "            if DenominatorSize(vertices[p[0]][0], afrak) > DenominatorSize(vertices[p[0]][1], afrak): #this if checks which neighbour is connected to the point we are considering: it's always that with bigger denominator\n",
    "                proot = vertices[p[0]][0]\n",
    "            else:\n",
    "                proot = vertices[p[0]][1]\n",
    "            lines = lines + line([p,(proot,p[1]+1/(L-1))])\n",
    "        return plot(lines)"
   ]
  },
  {
   "cell_type": "code",
   "execution_count": 14,
   "metadata": {},
   "outputs": [],
   "source": [
    "def SphereInfluenceFarey(L, afrak):\n",
    "    '''\n",
    "    INPUT: L non-negative integer, afrak a fractional ideal in QQ\n",
    "    OUTPUT: approximation of the sphere of influence given by the Farey sequence of level L\n",
    "    '''\n",
    "    if L not in ZZ or L < 0:\n",
    "        raise ValueError(\"input should be a non-negative integer\")\n",
    "    arcs = plot(line([(1/2, 1/2),(1/2, (1/12)^(1/2))]))  #this is the empty plot, we will add arcs from the boundary spheres to this\n",
    "    if L == 0:\n",
    "        return arcs\n",
    "    if L > 0:\n",
    "        vertices, spheres = newFareyVertices(L, afrak)\n",
    "        rationals = [*vertices] #we take keys of the dictionary FareyVertices(L) as a list, so we get all the rational numbers in the Farey sequence of level L ordered according to the level they appeared at\n",
    "        for q in rationals[-(2^(L-1)):]:\n",
    "            (c0, r0), (c1, r1), cross = spheres[q] #these are centres and radii of boundary circumferences of q, cross is the x-coordinate where the arcs meet\n",
    "            arcs = arcs + plot((r0^2-(x-c0)^2)^(1/2), (x, c0-r0, cross)) + plot((r1^2-(x-c1)^2)^(1/2), (x, cross, c1+r1)) #for the lowest level we have the arcs end at the x-axis\n",
    "        for q in rationals[2:-(2^(L-1))]:\n",
    "            (c0, r0), (c1, r1), cross = spheres[q]\n",
    "            leaf0 = newFareySum(q, vertices[q][0], OK)\n",
    "            leaf1 = newFareySum(q, vertices[q][1], OK)\n",
    "            cross0 = spheres[leaf0][2] #for other levels we have the arcs end at the \"cross\" of the leaves stemming from q\n",
    "            cross1 = spheres[leaf1][2]\n",
    "            arcs = arcs + plot((r0^2-(x-c0)^2)^(1/2), (x, cross0, cross)) + plot((r1^2-(x-c1)^2)^(1/2), (x, cross, cross1))\n",
    "        return arcs"
   ]
  },
  {
   "cell_type": "code",
   "execution_count": 16,
   "metadata": {},
   "outputs": [
    {
     "data": {
      "image/png": "[encoded data removed]",
      "text/plain": [
       "Graphics object consisting of 63 graphics primitives"
      ]
     },
     "execution_count": 16,
     "metadata": {},
     "output_type": "execute_result"
    }
   ],
   "source": [
    "SphereInfluenceFarey(5, OK)"
   ]
  }
 ],
 "metadata": {
  "kernelspec": {
   "display_name": "SageMath 9.5",
   "language": "sage",
   "name": "sagemath"
  },
  "language_info": {
   "codemirror_mode": {
    "name": "ipython",
    "version": 3
   },
   "file_extension": ".py",
   "mimetype": "text/x-python",
   "name": "python",
   "nbconvert_exporter": "python",
   "pygments_lexer": "ipython3",
   "version": "3.10.12"
  }
 },
 "nbformat": 4,
 "nbformat_minor": 2
}
