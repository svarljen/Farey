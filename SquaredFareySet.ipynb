{
 "cells": [
  {
   "cell_type": "code",
   "execution_count": 4,
   "metadata": {},
   "outputs": [],
   "source": [
    "K = NumberField(x-1,'z') #need to construct this number field isomorphic to QQ, as working directly over QQ gives errors\n",
    "OK = K.ideal(1) #this is isomorphic to ZZ\n",
    "#Added bonus of this workaround is that we can use the following definitions for different fields"
   ]
  },
  {
   "cell_type": "code",
   "execution_count": 5,
   "metadata": {},
   "outputs": [],
   "source": [
    "def DenominatorMendoza(q):\n",
    "    '''\n",
    "    INPUT: q rational number -> a/b\n",
    "    OUTPUT: denominator size |b|^2/N(a,b)\n",
    "    '''\n",
    "    if q not in QQ:\n",
    "        raise ValueError(\"input should be a rational number\")\n",
    "    a = q.numerator()\n",
    "    b = q.denominator()\n",
    "    D = abs(b)^2/K.ideal(a,b).norm()\n",
    "    return D"
   ]
  },
  {
   "cell_type": "code",
   "execution_count": 6,
   "metadata": {},
   "outputs": [],
   "source": [
    "def MendozaFareySum(q1, q2):\n",
    "    '''\n",
    "    INPUT: q1, q2 rational numbers\n",
    "    OUTPUT: Farey sum (D(q1)*q1+D(q2)*q2)/(D(q1)+D(q2)) rational number\n",
    "    '''\n",
    "    if q1 not in QQ or q2 not in QQ:\n",
    "        raise ValueError(\"input should be two rational numbers\")\n",
    "    D1 = DenominatorMendoza(q1)\n",
    "    D2 = DenominatorMendoza(q2)\n",
    "    sum = (D1*q1+D2*q2)/(D1+D2)\n",
    "    return sum"
   ]
  },
  {
   "cell_type": "code",
   "execution_count": 7,
   "metadata": {},
   "outputs": [],
   "source": [
    "def MendozaFareyVertices(L, seq = False):\n",
    "    '''\n",
    "    INPUT: L non-negative integer, a Boolean that is False by default\n",
    "    OUTPUT: dictionary of vertices in the Farey sequence of level L with a list of their two neighbours, if seq == True also the list of vertices, which is the Farey sequence of level L\n",
    "    '''\n",
    "    if L not in ZZ or L < 0:\n",
    "        raise ValueError(\"input should be a non-negative integer\")\n",
    "    sequence = [0, 1] #list of rationals of the Farey sequence\n",
    "    vertices = {0: (), 1: ()} #dictionary: keys are rationals in the Farey sequence, for each key we have a tuple of the (at most two) neighbouring rationals\n",
    "    for i in range(L): #we iterate on the level to build the sequence\n",
    "        length = len(sequence) - 1\n",
    "        sequencesums = [MendozaFareySum(sequence[j], sequence[j+1]) for j in range(length)] #this is a list of the Farey sums of consecutive entries of the sequence\n",
    "        for j in range(length):\n",
    "            vertices[sequencesums[j]] = sequence[j], sequence[j+1] #each new Farey number found in 'sequencesums' is a new key in the dictionary 'vertices', and to it we associate its two neighbours found in 'sequence'\n",
    "        newsequence = []\n",
    "        for k in range(length): #this for loop creates a sequence alternating entries from the previous level with entries from 'sequencesums'\n",
    "            newsequence.append(sequence[k])\n",
    "            newsequence.append(sequencesums[k])\n",
    "        newsequence.append(1)\n",
    "        sequence = newsequence\n",
    "    if seq == True:\n",
    "        return vertices, sequence\n",
    "    return vertices"
   ]
  },
  {
   "cell_type": "code",
   "execution_count": 8,
   "metadata": {},
   "outputs": [],
   "source": [
    "def MendozaFareyTree(L):\n",
    "    '''\n",
    "    INPUT: L non-negative integer\n",
    "    OUTPUT: graph of the Farey sequence of level L\n",
    "    '''\n",
    "    if L not in ZZ or L < 0:\n",
    "        raise ValueError(\"input should be a non-negative integer\")\n",
    "    coordinates = [(0,0), (1,0)] #this will be the list of all the points (q, (L-1-level of q)/(L-1)) for q rational number in Farey sequence\n",
    "    lines = line([(0,0),(0,1)], linestyle = '--') + line([(1,0),(1,1)], linestyle = '--') #this gives vertical dashed lines at 0 and 1, we will add lines between points to this\n",
    "    if L == 0:\n",
    "        return plot(lines)\n",
    "    if L == 1: #case treated separately to avoid division by 0 in general case\n",
    "        return plot(lines + point((1/2,1), marker = 'o'))\n",
    "    if L > 1:\n",
    "        vertices = MendozaFareyVertices(L)\n",
    "        rationals = [*vertices] #we take keys of the dictionary FareyVertices(L) as a list, so we get all the rational numbers in the Farey sequence of level L ordered according to the level they appeared at\n",
    "        for i in range(L):\n",
    "            coordinates.extend([(q,(L-1-i)/(L-1)) for q in rationals[1+2^i:1+2^(i+1)]]) #coordinates \n",
    "        for p in coordinates[-1:2:-1]: #we draw lines starting from the bottom\n",
    "            if DenominatorMendoza(vertices[p[0]][0]) > DenominatorMendoza(vertices[p[0]][1]): #this if checks which neighbour is connected to the point we are considering: it's always that with bigger denominator\n",
    "                proot = vertices[p[0]][0]\n",
    "            else:\n",
    "                proot = vertices[p[0]][1]\n",
    "            lines = lines + line([p,(proot,p[1]+1/(L-1))])\n",
    "        return plot(lines)"
   ]
  },
  {
   "cell_type": "code",
   "execution_count": 9,
   "metadata": {},
   "outputs": [
    {
     "data": {
      "image/png": "[encoded data removed]",
      "text/plain": [
       "Graphics object consisting of 64 graphics primitives"
      ]
     },
     "execution_count": 9,
     "metadata": {},
     "output_type": "execute_result"
    }
   ],
   "source": [
    "MendozaFareyTree(6)"
   ]
  }
 ],
 "metadata": {
  "kernelspec": {
   "display_name": "SageMath 9.5",
   "language": "sage",
   "name": "sagemath"
  },
  "language_info": {
   "codemirror_mode": {
    "name": "ipython",
    "version": 3
   },
   "file_extension": ".py",
   "mimetype": "text/x-python",
   "name": "python",
   "nbconvert_exporter": "python",
   "pygments_lexer": "ipython3",
   "version": "3.10.12"
  }
 },
 "nbformat": 4,
 "nbformat_minor": 2
}
